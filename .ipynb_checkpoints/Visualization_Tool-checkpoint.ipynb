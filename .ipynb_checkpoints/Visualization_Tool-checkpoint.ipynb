{
 "cells": [
  {
   "cell_type": "code",
   "execution_count": 11,
   "metadata": {},
   "outputs": [],
   "source": [
    "import matplotlib.pyplot as plt\n",
    "import pandas as pd\n",
    "import numpy as np\n",
    "import seaborn as sns\n",
    "import ipyvuetify as v\n",
    "import ipywidgets as ipw\n",
    "import warnings\n",
    "\n",
    "warnings.filterwarnings(\"ignore\") #UI can get messed up if any warnings come up."
   ]
  },
  {
   "cell_type": "code",
   "execution_count": 12,
   "metadata": {},
   "outputs": [
    {
     "data": {
      "text/plain": [
       "'\\nTODO: - Find a way for the graph to show up to the right of the inputs\\n- get the clear button to work\\n- add the climate dataset into this feature\\n- improve the capability of the graphs and graph types\\n- accumulation capabilities\\n'"
      ]
     },
     "execution_count": 12,
     "metadata": {},
     "output_type": "execute_result"
    }
   ],
   "source": [
    "\"\"\"\n",
    "TODO: - Find a way for the graph to show up to the right of the inputs\n",
    "- get the clear button to work\n",
    "- add the climate dataset into this feature\n",
    "- improve the capability of the graphs and graph types\n",
    "- accumulation capabilities\n",
    "\"\"\""
   ]
  },
  {
   "cell_type": "code",
   "execution_count": 13,
   "metadata": {},
   "outputs": [],
   "source": [
    "# Dummy globals\n",
    "current_df = None\n",
    "current_dataset = None"
   ]
  },
  {
   "cell_type": "code",
   "execution_count": 14,
   "metadata": {},
   "outputs": [],
   "source": [
    "# Read in data\n",
    "climate_change_indicators = pd.read_csv(\"data/climate-change_mdg.csv\")\n",
    "food_security = pd.read_csv(\"data/food_security/pblstatssum-2.csv\")"
   ]
  },
  {
   "cell_type": "code",
   "execution_count": 15,
   "metadata": {},
   "outputs": [],
   "source": [
    "# Constants and option definitions\n",
    "\n",
    "time_col={\"Climate Change Indicators\":\"Year\", \"Food Security\":\"SvyDate\"}\n",
    "v.theme.dark = False\n",
    "\n",
    "LIST_DATASETS =  ['No Dataset Selected', \n",
    "        'Climate Data',\n",
    "        'Climate Change Indicators',\n",
    "        'Food Security']\n",
    "\n",
    "LIST_FREQUENCIES = [\n",
    "        'Daily',\n",
    "        'Monthly']\n",
    "\n",
    "MAPPING_DATASETS = {\n",
    "    'Climate Data':None,\n",
    "    'Climate Change Indicators':climate_change_indicators,\n",
    "    'Food Security':food_security\n",
    "}\n",
    "\n",
    "MAPPING_INDICATORS = {\n",
    "    'Climate Data':None,\n",
    "    'Climate Change Indicators':'Indicator Name',\n",
    "    'Food Security':'Variable'\n",
    "}\n",
    "\n",
    "MAPPING_VALUES = {\n",
    "    'Climate Data':None,\n",
    "    'Climate Change Indicators':'Value',\n",
    "    'Food Security':'Mean'\n",
    "}\n",
    "\n",
    "MAPPING_FREQUENCY = {\n",
    "    'Climate Data':[\"Daily\", \"Monthly\", \"Yearly\"],\n",
    "    'Climate Change Indicators':[\"Yearly\"],\n",
    "    'Food Security':[\"Monthly\", \"Yearly\"]\n",
    "}\n",
    "\n",
    "MAPPING_GRAPH_TYPES = {\n",
    "    'Climate Data':[\"Daily\", \"Monthly\", \"Yearly\"],\n",
    "    'Climate Change Indicators':[\"Line\", \"Scatter\"],\n",
    "    'Food Security':[\"Bar\"]\n",
    "}"
   ]
  },
  {
   "cell_type": "code",
   "execution_count": 16,
   "metadata": {},
   "outputs": [],
   "source": [
    "#user selects the frequency of the given data\n",
    "freq_data_picker_items = [\"Please Select Dataset\"]\n",
    "freq_data_picker = v.Select(\n",
    "    v_model=freq_data_picker_items[0],\n",
    "    items=freq_data_picker_items,\n",
    "    label=\"Desired frequency of data\",\n",
    "    disabled=True,\n",
    ")\n",
    "\n",
    "#user selects the frequency of the given data\n",
    "dataset_picker = v.Select(\n",
    "    items=LIST_DATASETS, \n",
    "    v_model='No Dataset Selected',\n",
    "    label=\"Select a category\",\n",
    "    disabled=False,\n",
    ")\n",
    "\n",
    "topic_picker_items = [\"Please Select Category\"]\n",
    "topic_picker = v.Select(\n",
    "    items=topic_picker_items, \n",
    "    v_model=topic_picker_items[0],\n",
    "    label=\"Select a topic\",\n",
    "    disabled=True,\n",
    ")\n",
    "\n",
    "graph_type_items = [\"Please Select Category\"]\n",
    "graph_type = v.Select(\n",
    "    items=graph_type_items, \n",
    "    v_model=graph_type_items[0],\n",
    "    label=\"Select a graph type\",\n",
    "    disabled=True,\n",
    ")\n",
    "\n",
    "\n",
    "#button to display forecast\n",
    "display_visualize_btn = v.Btn(\n",
    "    color=\"success\",\n",
    "    class_='ma-2',\n",
    "    children=[\n",
    "        v.Icon(left=True, children=[\n",
    "            'mdi-chart-timeline-variant'\n",
    "        ]),\n",
    "        'Display Visualization'\n",
    "    ],\n",
    "    disabled=True\n",
    ")\n",
    "\n",
    "#button to clear the plots currently on the screen\n",
    "clear_btn = v.Btn(\n",
    "    color=\"error\",\n",
    "    class_='ma-2',\n",
    "    children=[\n",
    "        v.Icon(left=True, children=[\n",
    "            'mdi-delete-forever'\n",
    "        ]),\n",
    "        'Clear Output'\n",
    "    ]\n",
    ")\n",
    "\n",
    "figure_display_area = ipw.Output(\n",
    "    layout={\n",
    "        'align-items':'center'\n",
    "    },\n",
    ")\n",
    "\n",
    "upload_caption_area = ipw.Output(\n",
    "    layout={\n",
    "        'align-items':'left'\n",
    "    }\n",
    ")\n",
    "\n",
    "hidden_dl_link_area = ipw.Output()\n",
    "\n",
    "# All the plots and output go here\n",
    "display_col = v.Col(\n",
    "    tag='div',\n",
    "    cols=9,\n",
    "    children=[\n",
    "        figure_display_area\n",
    "    ]\n",
    ")\n",
    "\n",
    "# All the controls are in one column\n",
    "#TODO: maybe add in the export_btn later\n",
    "upload_caption = \"\"\n",
    "controls_col = v.Col(\n",
    "    tag='div',\n",
    "    cols=3,\n",
    "    children=[\n",
    "        dataset_picker,\n",
    "        topic_picker,\n",
    "        freq_data_picker,\n",
    "        graph_type,\n",
    "        display_visualize_btn,\n",
    "        clear_btn\n",
    "    ]\n",
    ")\n",
    "\n",
    "# Everything together in a row\n",
    "full_display = v.Row(\n",
    "    tag='div',\n",
    "    fluid=True,\n",
    "    children=[\n",
    "        controls_col,\n",
    "        display_col\n",
    "    ]\n",
    ")"
   ]
  },
  {
   "cell_type": "code",
   "execution_count": 17,
   "metadata": {},
   "outputs": [],
   "source": [
    "\n",
    "# Graphics/UI and direct handler functions\n",
    "\n",
    "def render():\n",
    "    \"\"\"\n",
    "    Becuase the content of some UI elements depends on the settings in others,\n",
    "    the UI needs to be re-displayed whenever something is changed.\n",
    "    \n",
    "    This gets called once at program start, and then again after every setting change.\n",
    "    \"\"\"\n",
    "    \n",
    "    display(upload_caption_area)\n",
    "    display(hidden_dl_link_area)\n",
    "    display(full_display)\n",
    "\n",
    "def on_change():\n",
    "    \"\"\"\n",
    "    Called whenever any UI element is changed.\n",
    "    \n",
    "    Responsible for changing active_series, an identifier (file and column name) for the series of interest.\n",
    "    Also responsible for calling render().\n",
    "    \"\"\"\n",
    "    render()\n",
    "    \n",
    "            \n",
    "def display_visualize_on_click(widget, event, data):\n",
    "    global current_df\n",
    "    global current_dataset\n",
    "    global topic_picker\n",
    "    \n",
    "    indicator_name = MAPPING_INDICATORS[dataset_picker.v_model]\n",
    "    time_column = time_col[dataset_picker.v_model]\n",
    "    value_column = MAPPING_VALUES[dataset_picker.v_model]\n",
    "                                  \n",
    "    current_df = current_dataset[current_dataset[indicator_name]==topic_picker.v_model]\n",
    "    current_df[value_column] = current_df[value_column].astype(float)\n",
    "                                  \n",
    "    try:\n",
    "        show_visualize_plot()\n",
    "                                \n",
    "    except Exception as e:\n",
    "        with figure_display_area:\n",
    "            print(\"An error occurred during visualization:\\n\", str(e))\n",
    "        \n",
    "# Have to wrap the clear fn to take care of the param\n",
    "def clear_btn_on_click(widget, event, data):\n",
    "    plt.close('all')\n",
    "    figure_display_area.clear_output()\n",
    "    hidden_dl_link_area.clear_output()"
   ]
  },
  {
   "cell_type": "code",
   "execution_count": 18,
   "metadata": {},
   "outputs": [],
   "source": [
    "def show_visualize_plot():\n",
    "    global current_df\n",
    "    global topic_picker\n",
    "    global graph_type\n",
    "    \n",
    "    indicator_name = MAPPING_INDICATORS[dataset_picker.v_model]\n",
    "    time_column = time_col[dataset_picker.v_model]\n",
    "    value_column = MAPPING_VALUES[dataset_picker.v_model]\n",
    "    \n",
    "    with figure_display_area:\n",
    "        if (dataset_picker.v_model == \"Food Security\"):\n",
    "            title_to_assign = topic_picker.v_model + \" as a function of region\"\n",
    "            y_label_to_assign = current_df[\"VariableDescription\"].values[0]\n",
    "            graph = sns.catplot(x=\"AdminStrata\", y=value_column, kind=graph_type.v_model.lower(), data=current_df)\n",
    "            graph.set(ylabel=y_label_to_assign, xlabel=\"Region\", title=title_to_assign)\n",
    "        \n",
    "        else:\n",
    "            current_df[time_column] = current_df[time_column].astype(float)\n",
    "            \n",
    "\n",
    "            title_to_assign = topic_picker.v_model + \" as a function of time\"\n",
    "\n",
    "            graph = sns.relplot(data=current_df, x=time_column, y=value_column, kind=graph_type.v_model.lower())\n",
    "            graph.set(ylabel=topic_picker.v_model, title=title_to_assign)\n",
    "        \n",
    "def select_dataset(change):\n",
    "    global freq_data_picker\n",
    "    global current_dataset\n",
    "    global dataset_picker\n",
    "    global topic_picker\n",
    "    \n",
    "    # Show the frequences now\n",
    "    freq_data_picker.items = LIST_FREQUENCIES\n",
    "    freq_data_picker.v_model = freq_data_picker.items[0]\n",
    "    freq_data_picker.disabled = False\n",
    "    \n",
    "    # Restrict the daily frequency from showing up if needed\n",
    "    freq_data_picker.items = MAPPING_FREQUENCY[dataset_picker.v_model]\n",
    "    freq_data_picker.v_model = freq_data_picker.items[0]\n",
    "       \n",
    "    # Allox the user to export data if they have selected a dataset\n",
    "    if (dataset_picker.v_model != 'No Dataset Selected'):\n",
    "        display_visualize_btn.disabled=False\n",
    "        current_dataset = MAPPING_DATASETS[dataset_picker.v_model]\n",
    "        \n",
    "    if (dataset_picker.v_model == 'Food Security'):\n",
    "        freq_data_picker.items = [\"Cannot select frequency\"]\n",
    "        freq_data_picker.v_model = freq_data_picker.items[0]\n",
    "        freq_data_picker.disabled = True\n",
    "        \n",
    "    topic_picker.disabled = False\n",
    "    topic_picker.items = current_dataset[MAPPING_INDICATORS[dataset_picker.v_model]].unique()[1:].tolist()\n",
    "    topic_picker.v_model = topic_picker.items[0]\n",
    "     \n",
    "    graph_type.disabled = False\n",
    "    graph_type.items = MAPPING_GRAPH_TYPES[dataset_picker.v_model]\n",
    "    graph_type.v_model = graph_type.items[0]\n",
    "    \n",
    "    "
   ]
  },
  {
   "cell_type": "code",
   "execution_count": 19,
   "metadata": {
    "scrolled": false
   },
   "outputs": [
    {
     "data": {
      "application/vnd.jupyter.widget-view+json": {
       "model_id": "f430294c03eb41598a06814fa245b28e",
       "version_major": 2,
       "version_minor": 0
      },
      "text/plain": [
       "Output()"
      ]
     },
     "metadata": {},
     "output_type": "display_data"
    },
    {
     "data": {
      "application/vnd.jupyter.widget-view+json": {
       "model_id": "900efbb583d44f6ba2d2970602ea8291",
       "version_major": 2,
       "version_minor": 0
      },
      "text/plain": [
       "Output()"
      ]
     },
     "metadata": {},
     "output_type": "display_data"
    },
    {
     "data": {
      "application/vnd.jupyter.widget-view+json": {
       "model_id": "d7626ef7cd374d6b93a459328d69568b",
       "version_major": 2,
       "version_minor": 0
      },
      "text/plain": [
       "Row(children=[Col(children=[Select(disabled=False, items=['No Dataset Selected', 'Climate Data', 'Climate Chan…"
      ]
     },
     "metadata": {},
     "output_type": "display_data"
    },
    {
     "data": {
      "image/png": "[encoded data removed]",
      "text/plain": [
       "<Figure size 360x360 with 1 Axes>"
      ]
     },
     "metadata": {
      "needs_background": "light"
     },
     "output_type": "display_data"
    }
   ],
   "source": [
    "# Configure on_click and on_change behaviors\n",
    "display_visualize_btn.on_event('click', display_visualize_on_click)\n",
    "clear_btn.on_event('click', clear_btn_on_click)\n",
    "dataset_picker.observe(select_dataset, 'v_model')\n",
    "\n",
    "render()"
   ]
  },
  {
   "cell_type": "code",
   "execution_count": null,
   "metadata": {},
   "outputs": [],
   "source": []
  }
 ],
 "metadata": {
  "kernelspec": {
   "display_name": "Python 3",
   "language": "python",
   "name": "python3"
  },
  "language_info": {
   "codemirror_mode": {
    "name": "ipython",
    "version": 3
   },
   "file_extension": ".py",
   "mimetype": "text/x-python",
   "name": "python",
   "nbconvert_exporter": "python",
   "pygments_lexer": "ipython3",
   "version": "3.8.1"
  }
 },
 "nbformat": 4,
 "nbformat_minor": 2
}
